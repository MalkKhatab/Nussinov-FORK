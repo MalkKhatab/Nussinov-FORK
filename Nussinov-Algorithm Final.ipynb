{
 "cells": [
  {
   "cell_type": "markdown",
   "metadata": {},
   "source": [
    "# Nussinov Algorithm for RNA Secondary Structure Prediction"
   ]
  },
  {
   "cell_type": "markdown",
   "metadata": {},
   "source": [
    "Nussinov-Jacobson python algorithm implementation\n",
    "Predicts the secondary RNA structure from an RNA sequence.\n",
    "The minimal loop length is set to a default of 0"
   ]
  },
  {
   "cell_type": "code",
   "execution_count": 47,
   "metadata": {},
   "outputs": [],
   "source": [
    "import pandas as pd"
   ]
  },
  {
   "cell_type": "markdown",
   "metadata": {},
   "source": [
    "### Filling the Matrix"
   ]
  },
  {
   "cell_type": "code",
   "execution_count": 48,
   "metadata": {},
   "outputs": [],
   "source": [
    "def filling_matrix(s):\n",
    "    \"\"\"\n",
    "    Filling the matrix by initialize the diagonal and its below with zero & the matrix is filled diagonal\n",
    "    \"\"\"\n",
    "    #initilaize matrix size \n",
    "    sequencelength = len(s)\n",
    "    \n",
    "    # create the matrix\n",
    "    scoreMatrix = [[None for _ in range(sequencelength)] for _ in range(sequencelength)]\n",
    "\n",
    "    #initialize the diagonal and its below with zero\n",
    "    for z in range (0,sequencelength):\n",
    "        scoreMatrix[z][z]=0\n",
    "        if(z+1 <= sequencelength-1):\n",
    "            scoreMatrix[z+1][z]=0\n",
    "\n",
    "\n",
    "    #filling the matrix\n",
    "    #note that the matrix is filled diagonally.\n",
    "    n=1\n",
    "    iternum = sequencelength-1\n",
    "    while (iternum >0):\n",
    "\n",
    "        for i in range (0,sequencelength):\n",
    "            row= i\n",
    "            col= i+n\n",
    "            if(row <= sequencelength-1 and col <=sequencelength-1):\n",
    "                if(s[row] =='A' and s[col]=='U'or \n",
    "                   s[row] =='U' and s[col]=='A'or\n",
    "                   s[row] =='G' and s[col]=='U'or\n",
    "                   s[row] =='U' and s[col]=='G'or\n",
    "                   s[row] =='G' and s[col]=='C'or\n",
    "                   s[row] =='C' and s[col]=='G'):\n",
    "                    scoreMatrix[row][col]=scoreMatrix[row+1][col-1]+1\n",
    "                else:\n",
    "                    left = scoreMatrix[row][col-1]\n",
    "                    down = scoreMatrix[row+1][col]\n",
    "\n",
    "                    scoreMatrix[row][col] = max(left, down)\n",
    "            else:\n",
    "                break\n",
    "        \n",
    "        n=n+1 \n",
    "        iternum = iternum-1\n",
    "\n",
    "    return scoreMatrix"
   ]
  },
  {
   "cell_type": "markdown",
   "metadata": {},
   "source": [
    "### Tracing Back Function"
   ]
  },
  {
   "cell_type": "code",
   "execution_count": 49,
   "metadata": {},
   "outputs": [],
   "source": [
    "def traceback(score_matrix, sequence):\n",
    "    \"\"\"\n",
    "    Traceback through the matrix to find optimal RNA secondary structure\n",
    "    \"\"\"\n",
    "    n = len(sequence)\n",
    "    structure = ['.'] * n  # Create an array initialized with '.'\n",
    "    i, j = 0, n - 1  # Start with this coordinate: i=0, j=n-1\n",
    "\n",
    "    while i < j:\n",
    "        if score_matrix[i + 1][j] == score_matrix[i][j]:\n",
    "            i += 1\n",
    "        elif score_matrix[i][j - 1] == score_matrix[i][j]:\n",
    "            j -= 1\n",
    "        elif score_matrix[i + 1][j - 1] == score_matrix[i][j] - 1 :\n",
    "            structure[i] = '('\n",
    "            structure[j] = ')'\n",
    "            i += 1\n",
    "            j -= 1\n",
    "        else:\n",
    "            j -= 1\n",
    "\n",
    "    return ''.join(structure)"
   ]
  },
  {
   "cell_type": "markdown",
   "metadata": {},
   "source": [
    "### Main Function"
   ]
  },
  {
   "cell_type": "code",
   "execution_count": 50,
   "metadata": {},
   "outputs": [
    {
     "name": "stdout",
     "output_type": "stream",
     "text": [
      "     G    G    G    A    A    A    U  C  C\n",
      "G  0.0  0.0  0.0  0.0  0.0  0.0  1.0  2  3\n",
      "G  0.0  0.0  0.0  0.0  0.0  0.0  1.0  2  3\n",
      "G  NaN  0.0  0.0  0.0  0.0  0.0  1.0  2  2\n",
      "A  NaN  NaN  0.0  0.0  0.0  0.0  1.0  1  1\n",
      "A  NaN  NaN  NaN  0.0  0.0  0.0  1.0  1  1\n",
      "A  NaN  NaN  NaN  NaN  0.0  0.0  1.0  1  1\n",
      "U  NaN  NaN  NaN  NaN  NaN  0.0  0.0  0  0\n",
      "C  NaN  NaN  NaN  NaN  NaN  NaN  0.0  0  0\n",
      "C  NaN  NaN  NaN  NaN  NaN  NaN  NaN  0  0 \n",
      "\n",
      "RNA Secondary Structures:  \n",
      "fold:  .((..()))\n"
     ]
    }
   ],
   "source": [
    "#s=\"CGGACCCAGACUUUC\"\n",
    "rna_sequence =  input(\"Please enter the sequence: \")\n",
    "\n",
    "score_matrix=filling_matrix(rna_sequence)\n",
    "\n",
    "predicted_structure = traceback(score_matrix, rna_sequence)\n",
    "\n",
    "names = [_ for _ in rna_sequence]\n",
    "data = pd.DataFrame(score_matrix, index = names, columns = names)\n",
    "\n",
    "\n",
    "print (data, \"\\n\\nRNA Secondary Structures: \", \"\\nfold: \", predicted_structure)"
   ]
  }
 ],
 "metadata": {
  "kernelspec": {
   "display_name": "Python 3",
   "language": "python",
   "name": "python3"
  },
  "language_info": {
   "codemirror_mode": {
    "name": "ipython",
    "version": 3
   },
   "file_extension": ".py",
   "mimetype": "text/x-python",
   "name": "python",
   "nbconvert_exporter": "python",
   "pygments_lexer": "ipython3",
   "version": "3.12.0"
  }
 },
 "nbformat": 4,
 "nbformat_minor": 2
}
