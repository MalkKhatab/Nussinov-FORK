{
 "cells": [
  {
   "cell_type": "markdown",
   "metadata": {},
   "source": [
    "# Nussinov Algorithm for RNA Secondary Structure Prediction"
   ]
  },
  {
   "cell_type": "code",
   "execution_count": null,
   "metadata": {},
   "outputs": [],
   "source": [
    "import pandas as pd"
   ]
  },
  {
   "cell_type": "markdown",
   "metadata": {},
   "source": [
    "### Filling the Matrix"
   ]
  },
  {
   "cell_type": "code",
   "execution_count": 17,
   "metadata": {},
   "outputs": [],
   "source": [
    "def filling_matrix(s):\n",
    "    #initilaize matrix size \n",
    "    sequencelength = len(s)\n",
    "    \n",
    "    # we could write 0 rather than none and not do the step of initialization?\n",
    "    scoreMatrix = [[None for _ in range(sequencelength)] for _ in range(sequencelength)]\n",
    "\n",
    "    #initialize the diagonal and its below with zero\n",
    "    for z in range (0,sequencelength):\n",
    "        scoreMatrix[z][z]=0\n",
    "        if(z+1 <= sequencelength-1):\n",
    "            scoreMatrix[z+1][z]=0\n",
    "\n",
    "\n",
    "    #filling the matrix\n",
    "    #note that the matrix is filled diagonally.\n",
    "    n=1\n",
    "    iternum = sequencelength-1\n",
    "    while (iternum >0):\n",
    "\n",
    "        for i in range (0,sequencelength):\n",
    "            row= i\n",
    "            col= i+n\n",
    "            if(row <= sequencelength-1 and col <=sequencelength-1):\n",
    "                if(s[row] =='A' and s[col]=='U'or \n",
    "                   s[row] =='U' and s[col]=='A'or\n",
    "                   s[row] =='G' and s[col]=='U'or\n",
    "                   s[row] =='U' and s[col]=='G'or\n",
    "                   s[row] =='G' and s[col]=='C'or\n",
    "                   s[row] =='C' and s[col]=='G'):\n",
    "                    scoreMatrix[row][col]=scoreMatrix[row+1][col-1]+1\n",
    "                else:\n",
    "                    left = scoreMatrix[row][col-1]\n",
    "                    down = scoreMatrix[row+1][col]\n",
    "\n",
    "                    scoreMatrix[row][col] = max(left, down)\n",
    "            else:\n",
    "                break\n",
    "        \n",
    "        n=n+1 \n",
    "        iternum = iternum-1\n",
    "\n",
    "    return scoreMatrix"
   ]
  },
  {
   "cell_type": "markdown",
   "metadata": {},
   "source": [
    "### Make sure the Filling Function Works"
   ]
  },
  {
   "cell_type": "code",
   "execution_count": 18,
   "metadata": {},
   "outputs": [
    {
     "name": "stdout",
     "output_type": "stream",
     "text": [
      "     0    1    2    3    4    5    6    7    8    9    10   11   12  13  14\n",
      "0   0.0  1.0  1.0  1.0  1.0  2.0  2.0  2.0  3.0  3.0  3.0  3.0  3.0   4   5\n",
      "1   0.0  0.0  0.0  0.0  1.0  2.0  2.0  2.0  2.0  2.0  2.0  3.0  3.0   4   5\n",
      "2   NaN  0.0  0.0  0.0  1.0  1.0  1.0  1.0  1.0  1.0  2.0  2.0  3.0   4   4\n",
      "3   NaN  NaN  0.0  0.0  0.0  0.0  0.0  0.0  1.0  1.0  1.0  2.0  3.0   3   3\n",
      "4   NaN  NaN  NaN  0.0  0.0  0.0  0.0  0.0  1.0  1.0  1.0  2.0  2.0   3   3\n",
      "5   NaN  NaN  NaN  NaN  0.0  0.0  0.0  0.0  1.0  1.0  1.0  2.0  2.0   3   3\n",
      "6   NaN  NaN  NaN  NaN  NaN  0.0  0.0  0.0  1.0  1.0  1.0  2.0  2.0   3   3\n",
      "7   NaN  NaN  NaN  NaN  NaN  NaN  0.0  0.0  0.0  0.0  1.0  2.0  2.0   3   3\n",
      "8   NaN  NaN  NaN  NaN  NaN  NaN  NaN  0.0  0.0  0.0  1.0  1.0  2.0   2   2\n",
      "9   NaN  NaN  NaN  NaN  NaN  NaN  NaN  NaN  0.0  0.0  0.0  1.0  1.0   1   1\n",
      "10  NaN  NaN  NaN  NaN  NaN  NaN  NaN  NaN  NaN  0.0  0.0  0.0  0.0   0   0\n",
      "11  NaN  NaN  NaN  NaN  NaN  NaN  NaN  NaN  NaN  NaN  0.0  0.0  0.0   0   0\n",
      "12  NaN  NaN  NaN  NaN  NaN  NaN  NaN  NaN  NaN  NaN  NaN  0.0  0.0   0   0\n",
      "13  NaN  NaN  NaN  NaN  NaN  NaN  NaN  NaN  NaN  NaN  NaN  NaN  0.0   0   0\n",
      "14  NaN  NaN  NaN  NaN  NaN  NaN  NaN  NaN  NaN  NaN  NaN  NaN  NaN   0   0\n"
     ]
    }
   ],
   "source": [
    "#s =  input(\"Please enter the sequence: \")\n",
    "s=\"CGGACCCAGACUUUC\"\n",
    "score=filling_matrix(s)\n",
    "data = pd.DataFrame(score)\n",
    "print (data)\n",
    "#traceback(s)"
   ]
  },
  {
   "cell_type": "markdown",
   "metadata": {},
   "source": [
    "### Traceback"
   ]
  },
},
  {
   "cell_type": "code",
   "execution_count": 19,
   "metadata": {},
   "outputs": [],
   "source": [
    "def traceback(score_matrix, sequence):\n",
    " "\n"\n"\n",
    "Traceback through the matrix to find optimal RNA secondary structure",
    " "\n"\n"\n",
    "n = len(sequence)\n",
    "structure = ['.'] * n  # Create an array initialized with '.'\n",
    "i, j = 0, n - 1  # Start with this coordinate: i=0, j=n-1\n",
    "while i < j:\n",
    "if score_matrix[i + 1][j] == score_matrix[i][j]:\n",
    "i += 1\n",
    "elif score_matrix[i][j - 1] == score_matrix[i][j]:\n",
    "j -= 1\n",
    "elif score_matrix[i + 1][j - 1] == score_matrix[i][j] - 1 :\n",
    "structure[i] = '('\n",
    "structure[j] = ')'\n",
    "i += 1\n",
    "j -= 1\n",
    "else:\n",
    "j -= 1\n",
    "return ''.join(structure)\n"
   ]
  },
  {
   "cell_type": "markdown",
   "metadata": {},
   "source": [
    "### Main"
   ]
  },
{
   "cell_type": "code",
   "execution_count": 20,
   "metadata": {},
   "outputs": [
         "G    G    G    A    A    A    U  C  C\n",
"G  0.0  0.0  0.0  0.0  0.0  0.0  1.0  2  3\n",
"G  0.0  0.0  0.0  0.0  0.0  0.0  1.0  2  3\n",
"G  NaN  0.0  0.0  0.0  0.0  0.0  1.0  2  2\n",
"A  NaN  NaN  0.0  0.0  0.0  0.0  1.0  1  1\n",
"A  NaN  NaN  NaN  0.0  0.0  0.0  1.0  1  1\n",
"A  NaN  NaN  NaN  NaN  0.0  0.0  1.0  1  1\n",
"U  NaN  NaN  NaN  NaN  NaN  0.0  0.0  0  0\n",
"C  NaN  NaN  NaN  NaN  NaN  NaN  0.0  0  0\n",
"C  NaN  NaN  NaN  NaN  NaN  NaN  NaN  0  0\n",

"RNA Secondary Structures: \n", 
"fold:  .((..()))"

   ],
   "source": [
    "#s="CGGACCCAGACUUUC"\n",
    "rna_sequence =  input(Please enter the sequence: )\n",
    "score_matrix=filling_matrix(rna_sequence)\n",
    "predicted_structure = traceback(score_matrix, rna_sequence)\n",
    "names = [_ for _ in rna_sequence]\n",
    "data = pd.DataFrame(score_matrix, index = names, columns = names)\n",
    "print (data, \n\nRNA Secondary Structures: , \nfold: , predicted_structure)\n"
   ],
},
 ],
 "metadata": {
  "language_info": {
   "name": "python"
  }
 },
 "nbformat": 4,
 "nbformat_minor": 2
}
